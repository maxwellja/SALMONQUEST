{
 "cells": [
  {
   "cell_type": "code",
   "execution_count": null,
   "id": "8e8d8ef2",
   "metadata": {},
   "outputs": [],
   "source": [
    "\"\"\"\n",
    "This jupyter notebook collects the raw data and combines it into a single CSV\n",
    "file using\n",
    "the pandas module of python.\n",
    "Each file is the adult passage counts for each of the 9 dams for every day of the year.\n",
    "Courtesy of Columbia River Basin Research DART dashboard.\"\"\""
   ]
  },
  {
   "cell_type": "code",
   "execution_count": null,
   "id": "f5acc6b2",
   "metadata": {},
   "outputs": [],
   "source": [
    "import pandas as pd\n",
    "import os"
   ]
  },
  {
   "cell_type": "code",
   "execution_count": null,
   "id": "21b327be",
   "metadata": {},
   "outputs": [],
   "source": [
    "#First, I change my working directory to the folder that includes the csv files.\n",
    "#I abbreivate directory names for privacy.\n",
    "\n",
    "os.chdir('./SalmonData')\n",
    "path = os.getcwd()\n",
    "directory = os.listdir(path)"
   ]
  },
  {
   "cell_type": "code",
   "execution_count": null,
   "id": "e307004b",
   "metadata": {},
   "outputs": [],
   "source": [
    "#Creating an empty database\n",
    "rawdata = pd.DataFrame()\n",
    "\n",
    "#Reading each csv file and appending it to saldata.\n",
    "for file in directory:\n",
    "    if file.endswith('.csv') & file.startswith('adultdaily_2022'):\n",
    "        rawdata = rawdata.append(pd.read_csv(file))"
   ]
  },
  {
   "cell_type": "code",
   "execution_count": null,
   "id": "88f277be",
   "metadata": {},
   "outputs": [],
   "source": [
    "#View Database\n",
    "print(rawdata.head(1000))"
   ]
  },
  {
   "cell_type": "code",
   "execution_count": null,
   "id": "1802e631",
   "metadata": {},
   "outputs": [],
   "source": [
    "#Export wholly compiled data to single CSV file.\n",
    "rawdata.to_csv('All Dams.csv', index=False)"
   ]
  }
 ],
 "metadata": {
  "kernelspec": {
   "display_name": "Python 3 (ipykernel)",
   "language": "python",
   "name": "python3"
  },
  "language_info": {
   "codemirror_mode": {
    "name": "ipython",
    "version": 3
   },
   "file_extension": ".py",
   "mimetype": "text/x-python",
   "name": "python",
   "nbconvert_exporter": "python",
   "pygments_lexer": "ipython3",
   "version": "3.9.12"
  }
 },
 "nbformat": 4,
 "nbformat_minor": 5
}
