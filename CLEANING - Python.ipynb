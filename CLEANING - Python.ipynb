{
 "cells": [
  {
   "cell_type": "code",
   "execution_count": null,
   "id": "c1386c9f",
   "metadata": {},
   "outputs": [],
   "source": [
    "import pandas as pd\n",
    "import os"
   ]
  },
  {
   "cell_type": "code",
   "execution_count": null,
   "id": "54a4c7ce",
   "metadata": {},
   "outputs": [],
   "source": [
    "#Import Raw Data into Python\n",
    "os.chdir('/Users/maxwell/Desktop/Code/SALMONQUEST/SalmonData')\n",
    "\n",
    "datapath = 'all_dams.csv'\n",
    "rawdata = pd.DataFrame(pd.read_csv(datapath))"
   ]
  },
  {
   "cell_type": "code",
   "execution_count": null,
   "id": "80a544ef",
   "metadata": {},
   "outputs": [],
   "source": [
    "pd.options.display.max_rows=40"
   ]
  },
  {
   "cell_type": "code",
   "execution_count": null,
   "id": "d5b6e530",
   "metadata": {},
   "outputs": [],
   "source": [
    "#This attribute provides the dataset's techincal info.\n",
    "rawdata.info()"
   ]
  },
  {
   "cell_type": "code",
   "execution_count": null,
   "id": "01058d20",
   "metadata": {},
   "outputs": [],
   "source": [
    "#Let's examine the database\n",
    "rawdata"
   ]
  },
  {
   "cell_type": "code",
   "execution_count": null,
   "id": "21f41bcf",
   "metadata": {},
   "outputs": [],
   "source": [
    "\"\"\"\n",
    "\n",
    "I need two datasets. \n",
    "\n",
    "The first has two columns: date and total salmon counts. I'll call it data_simple\n",
    "This answers the general question I asked at the outset of this project:\n",
    "When should I fish to have the highest likelihood of catching a salmon?\n",
    "\n",
    "The second includes salmon numbers for each of the three types at each of the 9 location centers.\n",
    "I'll call this data_detailed\n",
    "This dataset can be used to answer a more specific question:\n",
    "Which section of the Columbia river should I fish on, and on which day of the year, \n",
    "to have the highest chance of catching each of the three salmon types?\n",
    "\n",
    "\"\"\""
   ]
  },
  {
   "cell_type": "code",
   "execution_count": null,
   "id": "690e30fa",
   "metadata": {},
   "outputs": [],
   "source": [
    "#Reformat 1: Rename columns\n",
    "d1 = rawdata.rename(\n",
    "    columns={\n",
    "        'Project': 'Location',\n",
    "        'Chin': 'Chinook',\n",
    "        'Sock': 'Sockeye',\n",
    "    })\n",
    "\n",
    "#Reformat 2: Remove all fish types that aren't adult salmon.\n",
    "#Only Chinook, Sockeye, and Coho are the ones I would eat for dinner !\n",
    "column_names = ['Location', 'Date', 'Chinook','Sockeye','Coho']\n",
    "d2 = d1[column_names]"
   ]
  },
  {
   "cell_type": "code",
   "execution_count": null,
   "id": "c98f6859",
   "metadata": {},
   "outputs": [],
   "source": [
    "#QUESTION:\n",
    "#What do rows with null date values look like?\n",
    "non_data = d2.loc[d2['Date'].isna(), ['Location', 'Sockeye']]\n",
    "non_data.head(20)\n",
    "#They are notes from the tables stored in the location column. These are not data points."
   ]
  },
  {
   "cell_type": "code",
   "execution_count": null,
   "id": "fe1d8c5f",
   "metadata": {},
   "outputs": [],
   "source": [
    "#Reformat 3: Remove all null date values.\n",
    "d3 = d2[d2['Date'].notna()]\n",
    "\n",
    "#Reformat 4: Change null salmon counts to zeroes.\n",
    "d4 = d3.fillna(0)\n",
    "\n",
    "#Reformat 5: Order entries by Date; then by Location\n",
    "d5 = d4.sort_values(by=['Date', 'Location'], ignore_index=True)\n",
    "\n",
    "#Reformat 6: Add total salmon count column.\n",
    "d5['Total Salmon'] = (d5['Chinook']+d5['Sockeye']+d5['Coho'])"
   ]
  },
  {
   "cell_type": "code",
   "execution_count": null,
   "id": "e27e039a",
   "metadata": {},
   "outputs": [],
   "source": [
    "#Create the simple dataset.\n",
    "\n",
    "# Include Date and Total Salmon columns only.\n",
    "ds1 = d5[['Date', 'Total Salmon']]\n",
    "#Take average of all salmon count data points for each day of the year.\n",
    "ds2 = ds1.groupby('Date', as_index=False)['Total Salmon'].mean()\n",
    "ds2['Total Salmon'] = ds2['Total Salmon'].astype(int)\n",
    "\n",
    "#Check ds2 has an entry for every day of the year.\n",
    "len(ds2) == 365\n",
    "\n",
    "data_simple = ds2"
   ]
  },
  {
   "cell_type": "code",
   "execution_count": null,
   "id": "f4e71fc5",
   "metadata": {},
   "outputs": [],
   "source": [
    "#Export the simple dataset.\n",
    "\n",
    "data_simple.to_csv('data_simple.csv', index=False)"
   ]
  },
  {
   "cell_type": "code",
   "execution_count": null,
   "id": "06f5a489",
   "metadata": {},
   "outputs": [],
   "source": [
    "#Create the detailed dataset.\n",
    "\n",
    "#Create salmon run numbers of zero for each date that there is no entry at each location."
   ]
  }
 ],
 "metadata": {
  "kernelspec": {
   "display_name": "Python 3 (ipykernel)",
   "language": "python",
   "name": "python3"
  },
  "language_info": {
   "codemirror_mode": {
    "name": "ipython",
    "version": 3
   },
   "file_extension": ".py",
   "mimetype": "text/x-python",
   "name": "python",
   "nbconvert_exporter": "python",
   "pygments_lexer": "ipython3",
   "version": "3.9.12"
  }
 },
 "nbformat": 4,
 "nbformat_minor": 5
}
