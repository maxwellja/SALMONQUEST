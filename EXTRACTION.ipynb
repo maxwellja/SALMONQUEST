{
 "cells": [
  {
   "cell_type": "code",
   "execution_count": null,
   "id": "a8d94435",
   "metadata": {},
   "outputs": [],
   "source": [
    "\"\"\"\n",
    "This jupyter notebook collects the raw data and combines it into a single CSV\n",
    "file using the pandas module of python.\n",
    "Each file is the adult passage counts for each of the 9 dams for every day of the year.\n",
    "Courtesy of Columbia River Basin Research DART dashboard.\n",
    "\"\"\""
   ]
  },
  {
   "cell_type": "code",
   "execution_count": null,
   "id": "f5acc6b2",
   "metadata": {},
   "outputs": [],
   "source": [
    "import pandas as pd\n",
    "import os"
   ]
  },
  {
   "cell_type": "code",
   "execution_count": null,
   "id": "8caed7ce",
   "metadata": {},
   "outputs": [],
   "source": [
    "#First, I change my working directory to the folder that includes the csv files.\n",
    "\n",
    "os.chdir('/Users/maxwell/Desktop/Code/SALMONQUEST/SalmonData')\n",
    "path = os.getcwd()\n",
    "directory = os.listdir(path)"
   ]
  },
  {
   "cell_type": "code",
   "execution_count": null,
   "id": "e307004b",
   "metadata": {},
   "outputs": [],
   "source": [
    "#Creating an empty database\n",
    "rawdata = pd.DataFrame()\n",
    "\n",
    "#Reading each csv file and appending it to saldata.\n",
    "for file in directory:\n",
    "    if file.endswith('.csv') & file.startswith('adultdaily_2022'):\n",
    "        rawdata = rawdata.append(pd.read_csv(file))"
   ]
  },
  {
   "cell_type": "code",
   "execution_count": null,
   "id": "e23f73ae",
   "metadata": {},
   "outputs": [],
   "source": [
    "#View Database\n",
    "rawdata"
   ]
  },
  {
   "cell_type": "code",
   "execution_count": null,
   "id": "30971406",
   "metadata": {},
   "outputs": [],
   "source": [
    "\"\"\"\n",
    "Now I have all of the data off of the website and onto a single dataset stored locally!\n",
    "I will export the data as a CSV file.\n",
    "In the next step - data processing - I will use the pandas module in python to clean the data.\n",
    "I will also clean the database I export here using SQL.\n",
    "\"\"\"\n",
    "\n",
    "#Export compiled data to single CSV file.\n",
    "rawdata.to_csv('all_dams.csv', index=False)"
   ]
  }
 ],
 "metadata": {
  "kernelspec": {
   "display_name": "Python 3 (ipykernel)",
   "language": "python",
   "name": "python3"
  },
  "language_info": {
   "codemirror_mode": {
    "name": "ipython",
    "version": 3
   },
   "file_extension": ".py",
   "mimetype": "text/x-python",
   "name": "python",
   "nbconvert_exporter": "python",
   "pygments_lexer": "ipython3",
   "version": "3.9.12"
  }
 },
 "nbformat": 4,
 "nbformat_minor": 5
}
