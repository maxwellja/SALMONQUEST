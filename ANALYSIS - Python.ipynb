{
 "cells": [
  {
   "cell_type": "code",
   "execution_count": null,
   "id": "387a9bba",
   "metadata": {},
   "outputs": [],
   "source": [
    "import pandas as pd\n",
    "import os"
   ]
  },
  {
   "cell_type": "code",
   "execution_count": null,
   "id": "4ef74cc8",
   "metadata": {},
   "outputs": [],
   "source": [
    "pd.options.display.max_rows=40"
   ]
  },
  {
   "cell_type": "code",
   "execution_count": null,
   "id": "107571b5",
   "metadata": {},
   "outputs": [],
   "source": [
    "#Import simple dataset into Python\n",
    "os.chdir('./Code/SALMONQUEST/SalmonData')\n",
    "\n",
    "datapath = 'data_simple.csv'\n",
    "#Define simple dataset as ds.\n",
    "ds = pd.DataFrame(pd.read_csv(datapath))"
   ]
  },
  {
   "cell_type": "code",
   "execution_count": null,
   "id": "70f46af6",
   "metadata": {},
   "outputs": [],
   "source": [
    "#QUESTION:\n",
    "#What are the top 20 salmon totals and their corresponding dates?\n",
    "top_20_set = ds.sort_values(by='Total Salmon', ascending=False, ignore_index = True).head(20)\n",
    "\n",
    "#Top 20 salmon totals\n",
    "top_20_nums = list(top_20_set['Total Salmon'])\n",
    "\n",
    "#Top salmon count\n",
    "high_num = max(top_20_nums)\n",
    "\n",
    "#For each salmon count, what is it's percent value compared to the top salmon count?\n",
    "percentages = []\n",
    "for i in top_20_nums:\n",
    "    percentages.append((i/high_num)*100)\n",
    "    print(percentages[len(percentages)-1])"
   ]
  },
  {
   "cell_type": "code",
   "execution_count": null,
   "id": "11de3429",
   "metadata": {},
   "outputs": [],
   "source": [
    "\"\"\"\n",
    "Conclusions:\n",
    "Top 12 days are in July. Top day is July 8th.\n",
    "Compared to the day with the most salmon, only the top 7 days have 75% or more as many fish,\n",
    "and only the top 18 days have 50% or more as many fish. \n",
    "\"\"\""
   ]
  },
  {
   "cell_type": "code",
   "execution_count": null,
   "id": "3d8f7ba1",
   "metadata": {},
   "outputs": [],
   "source": [
    "#Find Peaks and Quantify Change each day\n",
    "ds['Net Change'] = ds['Total Salmon'].diff()\n",
    "top_20_change = ds.sort_values(by='Net Change', ascending=False, ignore_index=True)\n",
    "top_20_change.head(20)"
   ]
  }
 ],
 "metadata": {
  "kernelspec": {
   "display_name": "Python 3 (ipykernel)",
   "language": "python",
   "name": "python3"
  },
  "language_info": {
   "codemirror_mode": {
    "name": "ipython",
    "version": 3
   },
   "file_extension": ".py",
   "mimetype": "text/x-python",
   "name": "python",
   "nbconvert_exporter": "python",
   "pygments_lexer": "ipython3",
   "version": "3.9.12"
  }
 },
 "nbformat": 4,
 "nbformat_minor": 5
}
