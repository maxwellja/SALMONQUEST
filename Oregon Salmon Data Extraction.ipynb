{
 "cells": [
  {
   "cell_type": "code",
   "execution_count": 1,
   "id": "f5acc6b2",
   "metadata": {},
   "outputs": [],
   "source": [
    "import pandas as pd"
   ]
  },
  {
   "cell_type": "code",
   "execution_count": null,
   "id": "7f9b8dfb",
   "metadata": {},
   "outputs": [],
   "source": [
    "#when printing the database later on, for datasets larger than rownumber rows, \n",
    "#it will only display 25 rows. Similar to the SQL LIMIT command.\n",
    "\n",
    "rownumber = 25\n",
    "pd.options.display.max_rows = rownumber"
   ]
  },
  {
   "cell_type": "code",
   "execution_count": null,
   "id": "e307004b",
   "metadata": {},
   "outputs": [],
   "source": [
    "#importing the raw csv data courtesy of Columbia River Basin Research DART dashboard.\n",
    "\n",
    "csv_url = \"\"\n",
    "raw = pd.read_csv(csv_url)\n",
    "#print()"
   ]
  }
 ],
 "metadata": {
  "kernelspec": {
   "display_name": "Python 3 (ipykernel)",
   "language": "python",
   "name": "python3"
  },
  "language_info": {
   "codemirror_mode": {
    "name": "ipython",
    "version": 3
   },
   "file_extension": ".py",
   "mimetype": "text/x-python",
   "name": "python",
   "nbconvert_exporter": "python",
   "pygments_lexer": "ipython3",
   "version": "3.9.12"
  }
 },
 "nbformat": 4,
 "nbformat_minor": 5
}
